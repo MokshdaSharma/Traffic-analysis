{
  "cells": [
    {
      "cell_type": "markdown",
      "metadata": {
        "id": "view-in-github",
        "colab_type": "text"
      },
      "source": [
        "<a href=\"https://colab.research.google.com/github/MokshdaSharma/Traffic-analysis/blob/main/Traffic_Prediction_model.ipynb\" target=\"_parent\"><img src=\"https://colab.research.google.com/assets/colab-badge.svg\" alt=\"Open In Colab\"/></a>"
      ]
    },
    {
      "cell_type": "code",
      "execution_count": null,
      "metadata": {
        "id": "RKbTdSXwnqvY"
      },
      "outputs": [],
      "source": [
        "!pip install pycaret"
      ]
    },
    {
      "cell_type": "code",
      "execution_count": 2,
      "metadata": {
        "id": "y4qgobkMW98v"
      },
      "outputs": [],
      "source": [
        "import seaborn as sns"
      ]
    },
    {
      "cell_type": "code",
      "execution_count": null,
      "metadata": {
        "id": "UOTyL1sGJwCm"
      },
      "outputs": [],
      "source": [
        "import pandas as pd\n",
        "df = pd.read_csv(\"/content/Traffic.csv\")\n",
        "df.dtypes"
      ]
    },
    {
      "cell_type": "code",
      "execution_count": null,
      "metadata": {
        "id": "CUW9jHVOXHAf"
      },
      "outputs": [],
      "source": [
        "df.head()"
      ]
    },
    {
      "cell_type": "code",
      "execution_count": null,
      "metadata": {
        "id": "3uDsVNAYXJ_E"
      },
      "outputs": [],
      "source": [
        "df.describe()"
      ]
    },
    {
      "cell_type": "code",
      "execution_count": null,
      "metadata": {
        "id": "-F1PcHclXMeD"
      },
      "outputs": [],
      "source": [
        "df.isnull().sum()"
      ]
    },
    {
      "cell_type": "code",
      "execution_count": null,
      "metadata": {
        "id": "Y7GbCaLFXSL_"
      },
      "outputs": [],
      "source": [
        "df"
      ]
    },
    {
      "cell_type": "code",
      "execution_count": null,
      "metadata": {
        "id": "uA9fOm1NYEbC"
      },
      "outputs": [],
      "source": [
        "import matplotlib.pyplot as plt\n",
        "x=df['Time']\n",
        "y=df['CarCount']\n",
        "z=df['BikeCount']\n",
        "w=df['BusCount']\n",
        "plt.bar(x,y,label='Cars',color='r')\n",
        "plt.bar(x,z,label='Bikes',color='y')\n",
        "plt.bar(x,w,label='Buses',color='orange')\n",
        "plt.title('Vehicles v/s time')\n",
        "plt.xlabel('Vehicles')\n",
        "plt.ylabel('time')\n",
        "plt.legend()\n",
        "plt.show()"
      ]
    },
    {
      "cell_type": "code",
      "execution_count": null,
      "metadata": {
        "id": "3GN0KPazob_x"
      },
      "outputs": [],
      "source": [
        "plt.figure(figsize=(10,5))\n",
        "sns.histplot(data=df, x=\"Day of the week\", hue=\"Traffic Situation\")"
      ]
    },
    {
      "cell_type": "code",
      "execution_count": null,
      "metadata": {
        "id": "PQNRD6w4o1wf"
      },
      "outputs": [],
      "source": [
        "sns.histplot(df, x=\"Date\", hue=\"Traffic Situation\", element=\"poly\")"
      ]
    },
    {
      "cell_type": "code",
      "execution_count": null,
      "metadata": {
        "id": "em0VpdcipCzi"
      },
      "outputs": [],
      "source": [
        "sns.histplot(data=df, x=\"Total\", hue=\"Traffic Situation\", multiple=\"stack\")"
      ]
    },
    {
      "cell_type": "code",
      "execution_count": null,
      "metadata": {
        "id": "BQjHkvRob5f6"
      },
      "outputs": [],
      "source": [
        "from pycaret.classification import*\n",
        "s=setup(data=df,target='Traffic Situation')\n",
        "rfModel = create_model('rf')"
      ]
    },
    {
      "cell_type": "code",
      "execution_count": null,
      "metadata": {
        "id": "fbWBRcTXcvqZ"
      },
      "outputs": [],
      "source": [
        "s = setup(data=df, target='Traffic Situation', normalize = True, normalize_method = 'zscore')\n",
        "cm = compare_models()\n"
      ]
    },
    {
      "cell_type": "code",
      "execution_count": null,
      "metadata": {
        "id": "KhEBtLXKeT7G"
      },
      "outputs": [],
      "source": [
        "s = setup(data=df, target='Traffic Situation', feature_selection = True)\n",
        "cm = compare_models()"
      ]
    },
    {
      "cell_type": "code",
      "execution_count": null,
      "metadata": {
        "id": "d9qN3Oixepml"
      },
      "outputs": [],
      "source": [
        "s = setup(data=df, target='Traffic Situation', remove_outliers = True, outliers_threshold = 0.05)\n",
        "cm = compare_models()"
      ]
    },
    {
      "cell_type": "code",
      "execution_count": null,
      "metadata": {
        "id": "VJvmOpwFevVp"
      },
      "outputs": [],
      "source": [
        "s = setup(data=df, target='Traffic Situation', pca = True, pca_method = 'linear')\n",
        "cm = compare_models()"
      ]
    },
    {
      "cell_type": "code",
      "execution_count": null,
      "metadata": {
        "id": "xviEUqOWZ8w1"
      },
      "outputs": [],
      "source": [
        "plt.figure(figsize=(19,10))\n",
        "sns.heatmap(df[['Date','Day of the week','CarCount','BikeCount','BusCount','BusCount','TruckCount','Total','Traffic Situation']].corr(),\n",
        "cmap='YlGnBu',annot=True)"
      ]
    },
    {
      "cell_type": "code",
      "execution_count": null,
      "metadata": {
        "id": "tsuKIyDnjdZs"
      },
      "outputs": [],
      "source": [
        "rfModel=create_model('rf',verbose=False)\n",
        "plot_model(rfModel,plot='feature')"
      ]
    },
    {
      "cell_type": "code",
      "execution_count": null,
      "metadata": {
        "id": "67DzyWMfhII_"
      },
      "outputs": [],
      "source": [
        "from pycaret.classification import *\n",
        "s = setup(data=df, target='Traffic Situation')\n",
        "rfModel = create_model('rf')"
      ]
    },
    {
      "cell_type": "code",
      "execution_count": null,
      "metadata": {
        "id": "t1HelamhpSQe"
      },
      "outputs": [],
      "source": [
        "plt.figure(figsize = (19,10))\n",
        "sns.heatmap(df[['Date', 'Day of the week', 'CarCount', 'BikeCount', 'BusCount',\n",
        "           'TruckCount', 'Total',  'Traffic Situation']].corr(),\n",
        "            cmap=\"YlGnBu\",annot=True)"
      ]
    },
    {
      "cell_type": "code",
      "execution_count": null,
      "metadata": {
        "id": "KMeV9456_EoL"
      },
      "outputs": [],
      "source": [
        "newPredictions = predict_model(rfModel, data = df)\n",
        "newPredictions"
      ]
    }
  ],
  "metadata": {
    "colab": {
      "provenance": [],
      "authorship_tag": "ABX9TyPsal5pEeJr7uzUJVrJbzSs",
      "include_colab_link": true
    },
    "kernelspec": {
      "display_name": "Python 3",
      "name": "python3"
    },
    "language_info": {
      "name": "python"
    }
  },
  "nbformat": 4,
  "nbformat_minor": 0
}